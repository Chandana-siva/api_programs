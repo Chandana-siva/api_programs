{
 "cells": [
  {
   "cell_type": "code",
   "execution_count": 1,
   "id": "d55c884b",
   "metadata": {},
   "outputs": [],
   "source": [
    "def palindrome(string):\n",
    "    a=string[::-1]\n",
    "    if string==a:\n",
    "        return \"this is palindrome\"\n",
    "    else:\n",
    "        return \"not a palindrome\""
   ]
  },
  {
   "cell_type": "code",
   "execution_count": 2,
   "id": "6d0689b1",
   "metadata": {},
   "outputs": [
    {
     "name": "stdout",
     "output_type": "stream",
     "text": [
      " * Serving Flask app \"__main__\" (lazy loading)\n",
      " * Environment: production\n",
      "\u001b[31m   WARNING: This is a development server. Do not use it in a production deployment.\u001b[0m\n",
      "\u001b[2m   Use a production WSGI server instead.\u001b[0m\n",
      " * Debug mode: off\n"
     ]
    },
    {
     "name": "stderr",
     "output_type": "stream",
     "text": [
      " * Running on http://127.0.0.1:1234/ (Press CTRL+C to quit)\n",
      "127.0.0.1 - - [28/Apr/2024 13:04:03] \"POST /palindrome HTTP/1.1\" 200 -\n",
      "127.0.0.1 - - [28/Apr/2024 13:04:15] \"POST /palindrome HTTP/1.1\" 200 -\n"
     ]
    }
   ],
   "source": [
    "from flask import Flask,request\n",
    "app=Flask(__name__)\n",
    "@app.route(\"/palindrome\",methods=[\"POST\"])\n",
    "def pal():\n",
    "    a=request.form.get(\"a\")\n",
    "    b=palindrome(a)\n",
    "    return str(b)\n",
    "if __name__==\"__main__\":\n",
    "    app.run(port=1234)"
   ]
  }
 ],
 "metadata": {
  "kernelspec": {
   "display_name": "Python 3 (ipykernel)",
   "language": "python",
   "name": "python3"
  },
  "language_info": {
   "codemirror_mode": {
    "name": "ipython",
    "version": 3
   },
   "file_extension": ".py",
   "mimetype": "text/x-python",
   "name": "python",
   "nbconvert_exporter": "python",
   "pygments_lexer": "ipython3",
   "version": "3.9.13"
  }
 },
 "nbformat": 4,
 "nbformat_minor": 5
}
