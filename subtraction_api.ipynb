{
 "cells": [
  {
   "cell_type": "code",
   "execution_count": 1,
   "id": "e3f6c139",
   "metadata": {},
   "outputs": [
    {
     "name": "stdout",
     "output_type": "stream",
     "text": [
      " * Serving Flask app \"__main__\" (lazy loading)\n",
      " * Environment: production\n",
      "\u001b[31m   WARNING: This is a development server. Do not use it in a production deployment.\u001b[0m\n",
      "\u001b[2m   Use a production WSGI server instead.\u001b[0m\n",
      " * Debug mode: off\n"
     ]
    },
    {
     "name": "stderr",
     "output_type": "stream",
     "text": [
      " * Running on http://127.0.0.1:1234/ (Press CTRL+C to quit)\n",
      "127.0.0.1 - - [28/Apr/2024 12:28:24] \"POST /sub HTTP/1.1\" 200 -\n"
     ]
    }
   ],
   "source": [
    "#retrieve data from postman by body of (form-data)\n",
    "from flask import Flask,request   \n",
    "app=Flask(__name__)    \n",
    "\n",
    "\n",
    "@app.route('/sub',methods=[\"GET\",\"POST\"])\n",
    "def sub():\n",
    "    a=int(request.form.get(\"a\"))\n",
    "    b=int(request.form.get(\"b\"))\n",
    "    c=a-b\n",
    "    return str(c)\n",
    "\n",
    "if __name__==\"__main__\":\n",
    "    app.run(port=1234)"
   ]
  },
  {
   "cell_type": "code",
   "execution_count": 2,
   "id": "c4b49aec",
   "metadata": {},
   "outputs": [
    {
     "data": {
      "text/plain": [
       "'C:\\\\Users\\\\CH SIVA\\\\git_api_programs'"
      ]
     },
     "execution_count": 2,
     "metadata": {},
     "output_type": "execute_result"
    }
   ],
   "source": [
    "pwd"
   ]
  }
 ],
 "metadata": {
  "kernelspec": {
   "display_name": "Python 3 (ipykernel)",
   "language": "python",
   "name": "python3"
  },
  "language_info": {
   "codemirror_mode": {
    "name": "ipython",
    "version": 3
   },
   "file_extension": ".py",
   "mimetype": "text/x-python",
   "name": "python",
   "nbconvert_exporter": "python",
   "pygments_lexer": "ipython3",
   "version": "3.9.13"
  }
 },
 "nbformat": 4,
 "nbformat_minor": 5
}
