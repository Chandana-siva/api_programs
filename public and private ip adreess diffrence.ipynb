{
 "cells": [
  {
   "cell_type": "code",
   "execution_count": null,
   "id": "92f44308",
   "metadata": {},
   "outputs": [],
   "source": [
    "from flask import Flask\n",
    "app=Flask(__name__)\n",
    "@app.route(\"/public and private ip address\")\n",
    "def ch():\n",
    "    return (\"Public IP (school address): 123.456.789.012 (visible to everyone) and Private IP (home address): 192.168.1.1 (only visible within your home network)\")\n",
    "if __name__==\"__main__\":\n",
    "    app.run(port=1233)"
   ]
  }
 ],
 "metadata": {
  "kernelspec": {
   "display_name": "Python 3 (ipykernel)",
   "language": "python",
   "name": "python3"
  },
  "language_info": {
   "codemirror_mode": {
    "name": "ipython",
    "version": 3
   },
   "file_extension": ".py",
   "mimetype": "text/x-python",
   "name": "python",
   "nbconvert_exporter": "python",
   "pygments_lexer": "ipython3",
   "version": "3.9.13"
  }
 },
 "nbformat": 4,
 "nbformat_minor": 5
}
