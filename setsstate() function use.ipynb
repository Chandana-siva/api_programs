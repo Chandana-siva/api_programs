{
 "cells": [
  {
   "cell_type": "code",
   "execution_count": 3,
   "id": "29719e34",
   "metadata": {},
   "outputs": [
    {
     "name": "stdout",
     "output_type": "stream",
     "text": [
      " * Serving Flask app \"__main__\" (lazy loading)\n",
      " * Environment: production\n",
      "\u001b[31m   WARNING: This is a development server. Do not use it in a production deployment.\u001b[0m\n",
      "\u001b[2m   Use a production WSGI server instead.\u001b[0m\n",
      " * Debug mode: off\n"
     ]
    },
    {
     "name": "stderr",
     "output_type": "stream",
     "text": [
      " * Running on http://127.0.0.1:1232/ (Press CTRL+C to quit)\n",
      "127.0.0.1 - - [31/May/2024 00:11:25] \"GET / HTTP/1.1\" 404 -\n",
      "127.0.0.1 - - [31/May/2024 00:11:25] \"GET /favicon.ico HTTP/1.1\" 404 -\n",
      "127.0.0.1 - - [31/May/2024 00:11:29] \"GET /setsstate()%20function%20use HTTP/1.1\" 200 -\n",
      "127.0.0.1 - - [31/May/2024 00:11:31] \"GET /setsstate()%20function%20use HTTP/1.1\" 200 -\n",
      "127.0.0.1 - - [31/May/2024 00:11:32] \"GET /setsstate()%20function%20use HTTP/1.1\" 200 -\n",
      "127.0.0.1 - - [31/May/2024 00:11:33] \"GET /setsstate()%20function%20use HTTP/1.1\" 200 -\n",
      "127.0.0.1 - - [31/May/2024 00:11:34] \"GET /setsstate()%20function%20use HTTP/1.1\" 200 -\n",
      "127.0.0.1 - - [31/May/2024 00:11:34] \"GET /setsstate()%20function%20use HTTP/1.1\" 200 -\n",
      "127.0.0.1 - - [31/May/2024 00:11:34] \"GET /setsstate()%20function%20use HTTP/1.1\" 200 -\n"
     ]
    }
   ],
   "source": [
    "from flask import Flask\n",
    "app=Flask(__name__)\n",
    "@app.route(\"/setsstate() function use\")\n",
    "def ch():\n",
    "    return str(\"Returns an object with the current internal state of the random number generator\")\n",
    "if __name__==\"__main__\":\n",
    "    app.run(port=1232)"
   ]
  }
 ],
 "metadata": {
  "kernelspec": {
   "display_name": "Python 3 (ipykernel)",
   "language": "python",
   "name": "python3"
  },
  "language_info": {
   "codemirror_mode": {
    "name": "ipython",
    "version": 3
   },
   "file_extension": ".py",
   "mimetype": "text/x-python",
   "name": "python",
   "nbconvert_exporter": "python",
   "pygments_lexer": "ipython3",
   "version": "3.9.13"
  }
 },
 "nbformat": 4,
 "nbformat_minor": 5
}
