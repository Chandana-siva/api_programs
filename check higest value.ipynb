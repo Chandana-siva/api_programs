{
 "cells": [
  {
   "cell_type": "code",
   "execution_count": 10,
   "id": "797b2aa9",
   "metadata": {},
   "outputs": [
    {
     "name": "stdout",
     "output_type": "stream",
     "text": [
      " * Serving Flask app \"__main__\" (lazy loading)\n",
      " * Environment: production\n",
      "\u001b[31m   WARNING: This is a development server. Do not use it in a production deployment.\u001b[0m\n",
      "\u001b[2m   Use a production WSGI server instead.\u001b[0m\n",
      " * Debug mode: off\n"
     ]
    },
    {
     "name": "stderr",
     "output_type": "stream",
     "text": [
      " * Running on http://127.0.0.1:1211/ (Press CTRL+C to quit)\n",
      "127.0.0.1 - - [22/May/2024 21:54:59] \"GET / HTTP/1.1\" 404 -\n",
      "127.0.0.1 - - [22/May/2024 21:54:59] \"GET /favicon.ico HTTP/1.1\" 404 -\n",
      "127.0.0.1 - - [22/May/2024 21:55:07] \"GET /check_higest_value HTTP/1.1\" 200 -\n"
     ]
    }
   ],
   "source": [
    "from flask import Flask,request\n",
    "app=Flask(__name__)\n",
    "@app.route(\"/check_higest_value\")\n",
    "def ch():\n",
    "    a=[1,2,3,4,598,56]\n",
    "    return str(max(a))\n",
    "if __name__==\"__main__\":\n",
    "    app.run(port=1211)"
   ]
  }
 ],
 "metadata": {
  "kernelspec": {
   "display_name": "Python 3 (ipykernel)",
   "language": "python",
   "name": "python3"
  },
  "language_info": {
   "codemirror_mode": {
    "name": "ipython",
    "version": 3
   },
   "file_extension": ".py",
   "mimetype": "text/x-python",
   "name": "python",
   "nbconvert_exporter": "python",
   "pygments_lexer": "ipython3",
   "version": "3.9.13"
  }
 },
 "nbformat": 4,
 "nbformat_minor": 5
}
