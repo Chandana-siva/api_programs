{
 "cells": [
  {
   "cell_type": "code",
   "execution_count": 3,
   "id": "c2095d82",
   "metadata": {},
   "outputs": [
    {
     "name": "stdout",
     "output_type": "stream",
     "text": [
      " * Serving Flask app \"__main__\" (lazy loading)\n",
      " * Environment: production\n",
      "\u001b[31m   WARNING: This is a development server. Do not use it in a production deployment.\u001b[0m\n",
      "\u001b[2m   Use a production WSGI server instead.\u001b[0m\n",
      " * Debug mode: off\n"
     ]
    },
    {
     "name": "stderr",
     "output_type": "stream",
     "text": [
      " * Running on http://127.0.0.1:1233/ (Press CTRL+C to quit)\n",
      "127.0.0.1 - - [20/May/2024 22:21:36] \"POST /random_number HTTP/1.1\" 200 -\n"
     ]
    }
   ],
   "source": [
    "import random\n",
    "from flask import Flask,request\n",
    "app=Flask(__name__)\n",
    "@app.route(\"/random_number\",methods=[\"POST\"])\n",
    "def ch():\n",
    "    a=int(request.form.get(\"a\"))\n",
    "    b=int(request.form.get(\"b\"))\n",
    "    return str(random.randint(a,b))\n",
    "if __name__==\"__main__\":\n",
    "    app.run(port=1233)"
   ]
  }
 ],
 "metadata": {
  "kernelspec": {
   "display_name": "Python 3 (ipykernel)",
   "language": "python",
   "name": "python3"
  },
  "language_info": {
   "codemirror_mode": {
    "name": "ipython",
    "version": 3
   },
   "file_extension": ".py",
   "mimetype": "text/x-python",
   "name": "python",
   "nbconvert_exporter": "python",
   "pygments_lexer": "ipython3",
   "version": "3.9.13"
  }
 },
 "nbformat": 4,
 "nbformat_minor": 5
}
