{
 "cells": [
  {
   "cell_type": "code",
   "execution_count": null,
   "id": "0ea0b8f4",
   "metadata": {},
   "outputs": [],
   "source": [
    "from flask import Flask\n",
    "app=Flask(__name__)\n",
    "@app.route(\"/statistics.harmonic_mean function  use\")\n",
    "def ch():\n",
    "    return (\"Calculates the harmonic mean (central location) of the given data\")\n",
    "if __name__==\"__main__\":\n",
    "    app.run(port=1233)"
   ]
  }
 ],
 "metadata": {
  "kernelspec": {
   "display_name": "Python 3 (ipykernel)",
   "language": "python",
   "name": "python3"
  },
  "language_info": {
   "codemirror_mode": {
    "name": "ipython",
    "version": 3
   },
   "file_extension": ".py",
   "mimetype": "text/x-python",
   "name": "python",
   "nbconvert_exporter": "python",
   "pygments_lexer": "ipython3",
   "version": "3.9.13"
  }
 },
 "nbformat": 4,
 "nbformat_minor": 5
}
