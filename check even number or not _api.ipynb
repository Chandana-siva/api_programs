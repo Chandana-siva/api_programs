{
 "cells": [
  {
   "cell_type": "code",
   "execution_count": 1,
   "id": "577a6f8c",
   "metadata": {},
   "outputs": [
    {
     "name": "stdout",
     "output_type": "stream",
     "text": [
      " * Serving Flask app \"__main__\" (lazy loading)\n",
      " * Environment: production\n",
      "\u001b[31m   WARNING: This is a development server. Do not use it in a production deployment.\u001b[0m\n",
      "\u001b[2m   Use a production WSGI server instead.\u001b[0m\n",
      " * Debug mode: off\n"
     ]
    },
    {
     "name": "stderr",
     "output_type": "stream",
     "text": [
      " * Running on http://127.0.0.1:1234/ (Press CTRL+C to quit)\n",
      "127.0.0.1 - - [28/Apr/2024 12:48:17] \"POST /check_odd_num HTTP/1.1\" 200 -\n",
      "127.0.0.1 - - [28/Apr/2024 12:48:24] \"POST /check_odd_num HTTP/1.1\" 200 -\n"
     ]
    }
   ],
   "source": [
    "from flask import Flask,request\n",
    "app=Flask(__name__)\n",
    "@app.route(\"/check_even_num\",methods=['POST'])\n",
    "def odd_num():\n",
    "    a=int(request.form.get(\"a\"))\n",
    "    if a%2==0:\n",
    "        return \"this is even number\"\n",
    "    else:\n",
    "        return \"not a odd number\"\n",
    "if __name__==\"__main__\":\n",
    "    app.run(port=1234)"
   ]
  }
 ],
 "metadata": {
  "kernelspec": {
   "display_name": "Python 3 (ipykernel)",
   "language": "python",
   "name": "python3"
  },
  "language_info": {
   "codemirror_mode": {
    "name": "ipython",
    "version": 3
   },
   "file_extension": ".py",
   "mimetype": "text/x-python",
   "name": "python",
   "nbconvert_exporter": "python",
   "pygments_lexer": "ipython3",
   "version": "3.9.13"
  }
 },
 "nbformat": 4,
 "nbformat_minor": 5
}
