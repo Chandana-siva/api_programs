{
 "cells": [
  {
   "cell_type": "code",
   "execution_count": 3,
   "id": "931200f3",
   "metadata": {},
   "outputs": [],
   "source": [
    "def lower(a):\n",
    "    b=a.lower()\n",
    "    return b\n"
   ]
  },
  {
   "cell_type": "code",
   "execution_count": 5,
   "id": "e335be34",
   "metadata": {},
   "outputs": [
    {
     "name": "stdout",
     "output_type": "stream",
     "text": [
      " * Serving Flask app \"__main__\" (lazy loading)\n",
      " * Environment: production\n",
      "\u001b[31m   WARNING: This is a development server. Do not use it in a production deployment.\u001b[0m\n",
      "\u001b[2m   Use a production WSGI server instead.\u001b[0m\n",
      " * Debug mode: off\n"
     ]
    },
    {
     "name": "stderr",
     "output_type": "stream",
     "text": [
      " * Running on http://127.0.0.1:1223/ (Press CTRL+C to quit)\n",
      "127.0.0.1 - - [18/May/2024 19:00:15] \"POST /enter_a_string%20in%20captals HTTP/1.1\" 200 -\n"
     ]
    }
   ],
   "source": [
    "from flask import Flask,request\n",
    "app=Flask(__name__)\n",
    "@app.route(\"/enter_a_string in captals\",methods=['POST'])\n",
    "def ch():\n",
    "    c=request.form.get(\"enter your string in capitals but out put is lower case letter\")\n",
    "    d=lower(c)\n",
    "    return str(d)\n",
    "if __name__==\"__main__\":\n",
    "    app.run(port=1223)"
   ]
  }
 ],
 "metadata": {
  "kernelspec": {
   "display_name": "Python 3 (ipykernel)",
   "language": "python",
   "name": "python3"
  },
  "language_info": {
   "codemirror_mode": {
    "name": "ipython",
    "version": 3
   },
   "file_extension": ".py",
   "mimetype": "text/x-python",
   "name": "python",
   "nbconvert_exporter": "python",
   "pygments_lexer": "ipython3",
   "version": "3.9.13"
  }
 },
 "nbformat": 4,
 "nbformat_minor": 5
}
